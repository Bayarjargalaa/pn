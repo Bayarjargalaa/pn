{
 "cells": [
  {
   "cell_type": "code",
   "execution_count": 4,
   "id": "459317b6",
   "metadata": {},
   "outputs": [],
   "source": [
    "import pandas as pd"
   ]
  },
  {
   "cell_type": "code",
   "execution_count": 3,
   "id": "0f7f9e3d",
   "metadata": {},
   "outputs": [
    {
     "name": "stdout",
     "output_type": "stream",
     "text": [
      "(86261, 7)\n"
     ]
    }
   ],
   "source": [
    "df=pd.read_excel(\"filtered_data.xlsx\")\n",
    "print(df.shape)"
   ]
  },
  {
   "cell_type": "code",
   "execution_count": 35,
   "id": "a5424743",
   "metadata": {},
   "outputs": [
    {
     "name": "stdout",
     "output_type": "stream",
     "text": [
      "(10328, 6)\n",
      "Index(['Гүйлгээний огноо', 'Тооцооны төрөл', 'Харилцагчийн код',\n",
      "       'Харилцагчийн нэр', 'Дебет - ₮', 'Кредит -₮'],\n",
      "      dtype='object')\n"
     ]
    }
   ],
   "source": [
    "columns=['Гүйлгээний огноо', 'Харилцагчийн код', 'Харилцагчийн нэр', 'Дебет - ₮', 'Кредит -₮',\"Тооцооны төрөл\" ]\n",
    "\n",
    "\n",
    "avlaga_nasjilt=pd.read_excel(\"Авлага_насжилт.xlsx\", usecols=columns)\n",
    "print(avlaga_nasjilt.shape)\n",
    "print(avlaga_nasjilt.columns)"
   ]
  },
  {
   "cell_type": "code",
   "execution_count": 36,
   "id": "533aa010",
   "metadata": {},
   "outputs": [],
   "source": [
    "# Огноог datetime болгох\n",
    "avlaga_nasjilt['Гүйлгээний огноо'] = pd.to_datetime(avlaga_nasjilt['Гүйлгээний огноо'], errors='coerce')\n",
    "# avlaga_nasjilt['Гүйлгээний огноо'] = pd.to_datetime(avlaga_nasjilt['Гүйлгээний огноо'], format='%Y-%m-%d')\n",
    "# avlaga_nasjilt['Гүйлгээний огноо'] = avlaga_nasjilt['Гүйлгээний огноо'].dt.strftime('%Y-%m-%d')\n",
    "# Сар багана гаргах\n",
    "avlaga_nasjilt['Сар'] = avlaga_nasjilt['Гүйлгээний огноо'].dt.to_period('M')"
   ]
  },
  {
   "cell_type": "code",
   "execution_count": 37,
   "id": "076ce503",
   "metadata": {},
   "outputs": [],
   "source": [
    "avlaga_nasjilt[\"Үлдэгдэл\"] = avlaga_nasjilt['Дебет - ₮'] - avlaga_nasjilt['Кредит -₮']"
   ]
  },
  {
   "cell_type": "code",
   "execution_count": 38,
   "id": "a754bb17",
   "metadata": {},
   "outputs": [],
   "source": [
    "pivot_sorted= avlaga_nasjilt.sort_values(['Харилцагчийн код', 'Харилцагчийн нэр', 'Тооцооны төрөл', 'Сар'])\n",
    "pivot_sorted['Нийт үлдэгдэл'] = pivot_sorted.groupby(['Харилцагчийн код', 'Харилцагчийн нэр', 'Тооцооны төрөл',])['Үлдэгдэл'].cumsum()\n",
    "latest_balances = pivot_sorted.groupby(['Харилцагчийн код', 'Харилцагчийн нэр', 'Тооцооны төрөл']).last().reset_index()\n",
    "# pivot_table = avlaga_nasjilt.groupby(['Харилцагчийн код', 'Харилцагчийн нэр', 'Сар'])[\"Үлдэгдэл\"].sum().reset_index()\n",
    "latest_balances = latest_balances[latest_balances['Нийт үлдэгдэл'] != 0]"
   ]
  },
  {
   "cell_type": "code",
   "execution_count": 39,
   "id": "6a69016c",
   "metadata": {},
   "outputs": [],
   "source": [
    "latest_balances.to_excel(\"latest_balances.xlsx\", index=False)"
   ]
  },
  {
   "cell_type": "code",
   "execution_count": 26,
   "id": "28599e73",
   "metadata": {},
   "outputs": [],
   "source": [
    "last_c2=pivot_filtered.sort_values(\"Сар\").groupby(['Харилцагчийн код', 'Харилцагчийн нэр']).tail(1)"
   ]
  },
  {
   "cell_type": "code",
   "execution_count": 27,
   "id": "8c6d4126",
   "metadata": {},
   "outputs": [],
   "source": [
    "last_c2.to_excel(\"pivot_filtered.xlsx\", index=False)"
   ]
  },
  {
   "cell_type": "code",
   "execution_count": 1,
   "id": "d4e3ec58",
   "metadata": {},
   "outputs": [
    {
     "name": "stdout",
     "output_type": "stream",
     "text": [
      "Index(['Дугаар', 'ДТ2', 'КТ2', 'ДТ4', 'КТ4', 'ДТ6', 'КТ6', 'сар, өдөр',\n",
      "       'дугаар\\n', 'Гүйлгээний утга', 'Дүн', 'Дебет', 'Кредит\\n'],\n",
      "      dtype='object')\n"
     ]
    }
   ],
   "source": [
    "import pandas as pd\n",
    "import seaborn as sns\n",
    "import matplotlib.pyplot as plt\n",
    "df=pd.read_excel(\"ЕЖ.xlsx\")\n",
    "print(df.columns)\n",
    "\n",
    "\n",
    "# pd.read_excel(\"ЕЖ.xlsx\", usecols=['Гүйлгээний утга', 'Харилцагчийн нэр', 'Тооцооны төрөл', 'Сар', 'Нийт үлдэгдэл']).to_excel(\"ЕЖ.xlsx\", index=False)"
   ]
  },
  {
   "cell_type": "code",
   "execution_count": 18,
   "id": "1d3e0af5",
   "metadata": {},
   "outputs": [],
   "source": [
    "df['Огноо'] = pd.to_datetime(df['сар, өдөр'])\n",
    "# print(df[\"Дүн\"].head(10))\n",
    "debet_df = df[[\"Огноо\", \"Дебет\", \"Дүн\"]].rename(columns={\"Дебет\": \"Данс код\"})\n",
    "debet_df[\"Сар\"] = debet_df[\"Огноо\"].dt.to_period(\"M\")\n",
    "pivot = debet_df.groupby([ \"Данс код\"])[\"Дүн\"].sum().reset_index()\n"
   ]
  },
  {
   "cell_type": "code",
   "execution_count": null,
   "id": "f6a0cc33",
   "metadata": {},
   "outputs": [],
   "source": [
    "# Дүн баганыг тоон төрөлд хөрвүүлэх\n",
    "pivot['Дүн'] = pd.to_numeric(pivot['Дүн'], errors='coerce')\n",
    "\n",
    "# График зурна\n",
    "import matplotlib.pyplot as plt\n",
    "import seaborn as sns\n",
    "\n",
    "print(pivot[\"Дүн\"].dtype)\n",
    "print(pivot[\"Дүн\"].head(10))\n",
    "print(\"PN тооцоо.xlsx\")\n",
    "# print(pivot[\"Сар\"].dtype)\n",
    "plt.figure(figsize=(14, 6))\n",
    "# pivot['Сар'] = pivot['Сар'].astype(str)  # Сар баганыг string төрөлд хөрвүүлэх\n",
    "pivot[\"Дүн\"]=pivot[\"Дүн\"].map('{:.2f}'.format)  # Дүн баганыг форматлах\n",
    "print(pivot[\"Дүн\"].head(10))\n",
    "sns.lineplot(data=pivot, x='Сар', y='Дүн', hue='Данс код')\n",
    "\n",
    "plt.title('Сар бүрийн дүн (данс тус бүрээр)')\n",
    "plt.xticks(rotation=45)\n",
    "plt.tight_layout()\n",
    "plt.show()\n"
   ]
  },
  {
   "cell_type": "code",
   "execution_count": null,
   "id": "7c057979",
   "metadata": {},
   "outputs": [],
   "source": [
    "plt.figure(figsize=(12,6))\n",
    "sns.barplot(data=monthly, x='Сар', y='Дүн')\n",
    "\n",
    "plt.title('Сар бүрийн нийт дүн')\n",
    "plt.xticks(rotation=45)\n",
    "plt.ylabel('Дүн (₮)')\n",
    "plt.xlabel('Сар')\n",
    "plt.tight_layout()\n",
    "plt.show()"
   ]
  },
  {
   "cell_type": "code",
   "execution_count": 16,
   "id": "8b89d358",
   "metadata": {},
   "outputs": [
    {
     "name": "stdout",
     "output_type": "stream",
     "text": [
      "(194, 6)\n",
      "Index(['Харилцагчийн код', 'Харилцагчийн нэр', 'Эхний үлдэгдэл', 'Дебит',\n",
      "       'Кредит', 'Эцсийн үлдэгдэл'],\n",
      "      dtype='object')\n",
      "         Харилцагчийн код Харилцагчийн нэр  Эхний үлдэгдэл    Дебит    Кредит  \\\n",
      "0  120101 - Дансны авлага              NaN             NaN      NaN       NaN   \n",
      "1                   10003          Соёлзул        106920.0      0.0       0.0   \n",
      "2                   10004          Билгүүн        675465.0      0.0       0.0   \n",
      "3                   10006        Цэнд-Аюуш       -356800.0      0.0       0.0   \n",
      "4                   10007         Энхцэцэг         76000.0      0.0       0.0   \n",
      "5                   10009       Үүрийнтуяа         47650.0      0.0       0.0   \n",
      "6                    1001        Билгүүн.Г      22846500.0      0.0       0.0   \n",
      "7                   10011        Бямбацогт        460400.0  37800.0  108000.0   \n",
      "8                   10020            Номин         22950.0      0.0       0.0   \n",
      "9                    1004        Цогжаргал        106920.0      0.0       0.0   \n",
      "\n",
      "  Эцсийн үлдэгдэл  \n",
      "0             MNT  \n",
      "1          106920  \n",
      "2          675465  \n",
      "3         -356800  \n",
      "4           76000  \n",
      "5           47650  \n",
      "6        22846500  \n",
      "7          390200  \n",
      "8           22950  \n",
      "9          106920  \n",
      "<class 'pandas.core.frame.DataFrame'>\n",
      "RangeIndex: 194 entries, 0 to 193\n",
      "Data columns (total 6 columns):\n",
      " #   Column            Non-Null Count  Dtype  \n",
      "---  ------            --------------  -----  \n",
      " 0   Харилцагчийн код  194 non-null    object \n",
      " 1   Харилцагчийн нэр  175 non-null    object \n",
      " 2   Эхний үлдэгдэл    189 non-null    float64\n",
      " 3   Дебит             189 non-null    float64\n",
      " 4   Кредит            189 non-null    float64\n",
      " 5   Эцсийн үлдэгдэл   194 non-null    object \n",
      "dtypes: float64(3), object(3)\n",
      "memory usage: 9.2+ KB\n",
      "None\n"
     ]
    }
   ],
   "source": [
    "import pandas as pd\n",
    "df = pd.read_excel(\"Авлага_2023.03.17.xlsx\")\n",
    "df=df.iloc[:197]\n",
    "print(df.shape)\n",
    "print(df.columns)\n",
    "print(df.head(10))\n",
    "print(df.info())"
   ]
  },
  {
   "cell_type": "code",
   "execution_count": 17,
   "id": "f88109f3",
   "metadata": {},
   "outputs": [
    {
     "name": "stdout",
     "output_type": "stream",
     "text": [
      "Харилцагчийн код     0\n",
      "Харилцагчийн нэр    19\n",
      "Эхний үлдэгдэл       5\n",
      "Дебит                5\n",
      "Кредит               5\n",
      "Эцсийн үлдэгдэл      0\n",
      "dtype: int64\n"
     ]
    }
   ],
   "source": [
    "print(df.isna().sum())"
   ]
  },
  {
   "cell_type": "code",
   "execution_count": 18,
   "id": "ae74b943",
   "metadata": {},
   "outputs": [
    {
     "name": "stdout",
     "output_type": "stream",
     "text": [
      "['120101 - Дансны авлага' '10003' '10004' '10006' '10007' '10009' '1001'\n",
      " '10011' '10020' '1004' '1021' '1201001' '1201002' '1201007' '1201008'\n",
      " '1201009' '1201010' '120101011' '12010103' '1201012' '1201014' '1201015'\n",
      " '1201017' '1201018' '1201020' '1201026' '1201027' '1201028' '1201032'\n",
      " '1201033' '1201035' '1201036' '1201037' '1201039' '1201048' '1201068'\n",
      " '1201069' '1201075' '1201077' '1201079' '1201080' '1201081' '1201082'\n",
      " '1201083' '1201088' '1201089' '1201090' '1201091' '1201092' '1201094'\n",
      " '1201096' '1201097' '1201099' '1201106' '1201110' '1201116' '1201120'\n",
      " '1201122' '1201123' '1201124' '1201125' '1201126' '1201131' '1201132'\n",
      " '12011333' '1201144' '12011441' '1201148' '1201150' '1201154' '1201155'\n",
      " '1201160' '1201162' '1201163' '1201166' '1201200' '1201201' '1201202'\n",
      " '1201204' '1201205' '1201206' '1201444' '1401066' '2082489' '2083817'\n",
      " '20838172' '20838176' '2572265' '2811715' '2824795' '28247952' '3624714'\n",
      " '5046688' '50466881' '504668811' '504668812' '504668813' '50466882'\n",
      " '50466885' '50466886' '50466887' '50466888' '50466889' '5062519'\n",
      " '5092787' '5241901' '5340772' '5452805' '5469929' '546992913' '546992914'\n",
      " '546992915' '546992918' '546992921' '546992923' '546992926' '546992938'\n",
      " '546992939' '5509882' '5617707' '5656117' '5751845' '5763649' '5914086'\n",
      " '5956315' '5974941' '6119026' '6155804' '6193056' '6197353' '6287263'\n",
      " '6390994' '6429319' '6436854' '6476651' '6486916' '6489192' '6504167'\n",
      " '6531342' '6666701' '6679242' '6692214' '6702678' '6710379' '6904475'\n",
      " 'ЗП80060210' 'Дансны дүн' '120102 - Дансны авлага /Евро/' '1301002' 'EUR'\n",
      " '1301003' '1301005' '1301007' '1301009' '1301010' '1301017'\n",
      " '120105 - Хувь хүнээс авах авлага' '1002' '1005' '1006' '1009' '1012'\n",
      " '1033' '120106 - Бусад авлага' '120601 - Ажиллагчдаас авах авлага'\n",
      " '10013' '1031' 'Нийт']\n"
     ]
    }
   ],
   "source": [
    "print(df[\"Харилцагчийн код\"].unique())\n",
    "\n",
    "\n"
   ]
  },
  {
   "cell_type": "code",
   "execution_count": 19,
   "id": "bc421d52",
   "metadata": {},
   "outputs": [
    {
     "name": "stdout",
     "output_type": "stream",
     "text": [
      "Төрлүүд: {<class 'str'>}\n"
     ]
    }
   ],
   "source": [
    "unique_values = df[\"Харилцагчийн код\"].unique()\n",
    "# print(unique_values)\n",
    "print(\"Төрлүүд:\", set(type(x) for x in unique_values))"
   ]
  },
  {
   "cell_type": "code",
   "execution_count": null,
   "id": "792a0a95",
   "metadata": {},
   "outputs": [
    {
     "name": "stdout",
     "output_type": "stream",
     "text": [
      "                      Харилцагчийн код Харилцагчийн нэр  Эхний үлдэгдэл  \\\n",
      "0               120101 - Дансны авлага              NaN             NaN   \n",
      "146                         Дансны дүн              NaN    3.256527e+08   \n",
      "147      120102 - Дансны авлага /Евро/              NaN             NaN   \n",
      "162                         Дансны дүн              NaN    2.501477e+08   \n",
      "164   120105 - Хувь хүнээс авах авлага              NaN             NaN   \n",
      "174                         Дансны дүн              NaN    2.433135e+08   \n",
      "175              120106 - Бусад авлага              NaN             NaN   \n",
      "182                         Дансны дүн              NaN    1.121720e+07   \n",
      "183  120601 - Ажиллагчдаас авах авлага              NaN             NaN   \n",
      "192                         Дансны дүн              NaN    2.140303e+07   \n",
      "193                               Нийт              NaN    8.517341e+08   \n",
      "\n",
      "          Дебит    Кредит Эцсийн үлдэгдэл  \n",
      "0           NaN       NaN             MNT  \n",
      "146  5900902.56  897170.0    330656395.62  \n",
      "147         NaN       NaN             EUR  \n",
      "162        0.00       0.0    250147664.97  \n",
      "164         NaN       NaN             MNT  \n",
      "174        0.00       0.0    243313530.04  \n",
      "175         NaN       NaN             MNT  \n",
      "182        0.00       0.0     11217198.86  \n",
      "183         NaN       NaN             MNT  \n",
      "192        0.00       0.0     21403032.57  \n",
      "193  5900902.56  897170.0    856737822.06  \n"
     ]
    }
   ],
   "source": [
    "mask = df[\"Харилцагчийн код\"].astype(str).str.contains(r'^.{2}.*[А-Яа-я]', na=False)\n",
    "letters_only = df[mask]\n",
    "print(letters_only)\n"
   ]
  },
  {
   "cell_type": "code",
   "execution_count": 11,
   "id": "a95b8e8d",
   "metadata": {},
   "outputs": [
    {
     "name": "stdout",
     "output_type": "stream",
     "text": [
      "['10003' '10004' '10006' '10007' '10009' '1001' '10011' '10020' '1004'\n",
      " '1021' '1201001' '1201002' '1201007' '1201008' '1201009' '1201010'\n",
      " '120101011' '12010103' '1201012' '1201014' '1201015' '1201017' '1201018'\n",
      " '1201020' '1201026' '1201027' '1201028' '1201032' '1201033' '1201035'\n",
      " '1201036' '1201037' '1201039' '1201048' '1201068' '1201069' '1201075'\n",
      " '1201077' '1201079' '1201080' '1201081' '1201082' '1201083' '1201088'\n",
      " '1201089' '1201090' '1201091' '1201092' '1201094' '1201096' '1201097'\n",
      " '1201099' '1201106' '1201110' '1201116' '1201120' '1201122' '1201123'\n",
      " '1201124' '1201125' '1201126' '1201131' '1201132' '12011333' '1201144'\n",
      " '12011441' '1201148' '1201150' '1201154' '1201155' '1201160' '1201162'\n",
      " '1201163' '1201166' '1201200' '1201201' '1201202' '1201204' '1201205'\n",
      " '1201206' '1201444' '1401066' '2082489' '2083817' '20838172' '20838176'\n",
      " '2572265' '2811715' '2824795' '28247952' '3624714' '5046688' '50466881'\n",
      " '504668811' '504668812' '504668813' '50466882' '50466885' '50466886'\n",
      " '50466887' '50466888' '50466889' '5062519' '5092787' '5241901' '5340772'\n",
      " '5452805' '5469929' '546992913' '546992914' '546992915' '546992918'\n",
      " '546992921' '546992923' '546992926' '546992938' '546992939' '5509882'\n",
      " '5617707' '5656117' '5751845' '5763649' '5914086' '5956315' '5974941'\n",
      " '6119026' '6155804' '6193056' '6197353' '6287263' '6390994' '6429319'\n",
      " '6436854' '6476651' '6486916' '6489192' '6504167' '6531342' '6666701'\n",
      " '6679242' '6692214' '6702678' '6710379' '6904475' '1301002' '1301003'\n",
      " '1301005' '1301007' '1301009' '1301010' '1301017' '1002' '1005' '1006'\n",
      " '1009' '1012' '1033' '10013' '1031']\n",
      "Нийт: 159 ширхэг цэвэр тоон утга байна.\n"
     ]
    }
   ],
   "source": [
    "# Давхардаагүй утгууд дотроос бүх тэмдэгт нь зөвхөн цифр (0–9) байгааг шүүх\n",
    "only_digits = df[\"Харилцагчийн код\"].dropna().astype(str)\n",
    "only_digits = only_digits[only_digits.str.isdigit()]\n",
    "\n",
    "print(only_digits.unique())\n",
    "print(f\"Нийт: {only_digits.nunique()} ширхэг цэвэр тоон утга байна.\")\n"
   ]
  },
  {
   "cell_type": "code",
   "execution_count": 14,
   "id": "e8633e06",
   "metadata": {},
   "outputs": [
    {
     "name": "stdout",
     "output_type": "stream",
     "text": [
      "    Харилцагчийн код Харилцагчийн нэр  Эхний үлдэгдэл  Дебит  Кредит  \\\n",
      "149              EUR              NaN        16132.49    0.0     0.0   \n",
      "151              EUR              NaN        20688.35    0.0     0.0   \n",
      "153              EUR              NaN        26213.79    0.0     0.0   \n",
      "155              EUR              NaN         3679.20    0.0     0.0   \n",
      "157              EUR              NaN           67.92    0.0     0.0   \n",
      "159              EUR              NaN           74.96    0.0     0.0   \n",
      "161              EUR              NaN         2275.84    0.0     0.0   \n",
      "163              EUR              NaN        69132.55    0.0     0.0   \n",
      "\n",
      "    Эцсийн үлдэгдэл  \n",
      "149        16132.49  \n",
      "151        20688.35  \n",
      "153        26213.79  \n",
      "155          3679.2  \n",
      "157           67.92  \n",
      "159           74.96  \n",
      "161         2275.84  \n",
      "163        69132.55  \n"
     ]
    }
   ],
   "source": [
    "mask = df[\"Харилцагчийн код\"].astype(str).str.contains(r'[a-zA-Z]', na=False)\n",
    "letters_only = df[mask]\n",
    "print(letters_only)\n"
   ]
  },
  {
   "cell_type": "code",
   "execution_count": 44,
   "id": "abe35584",
   "metadata": {},
   "outputs": [
    {
     "name": "stdout",
     "output_type": "stream",
     "text": [
      "  Харилцагчийн код Харилцагчийн нэр  Эхний үлдэгдэл  Дебит  Кредит  \\\n",
      "0            10003          Соёлзул        106920.0    0.0     0.0   \n",
      "1            10004          Билгүүн        675465.0    0.0     0.0   \n",
      "2            10006        Цэнд-Аюуш       -356800.0    0.0     0.0   \n",
      "3            10007         Энхцэцэг         76000.0    0.0     0.0   \n",
      "4            10009       Үүрийнтуяа         47650.0    0.0     0.0   \n",
      "\n",
      "  Эцсийн үлдэгдэл          Харьяалах данс  \n",
      "0          106920  120101 - Дансны авлага  \n",
      "1          675465  120101 - Дансны авлага  \n",
      "2         -356800  120101 - Дансны авлага  \n",
      "3           76000  120101 - Дансны авлага  \n",
      "4           47650  120101 - Дансны авлага  \n"
     ]
    }
   ],
   "source": [
    "import pandas as pd\n",
    "\n",
    "# Excel файл унших\n",
    "df = pd.read_excel(\"Авлага_2023.03.17.xlsx\", skiprows=0, nrows=192)\n",
    "\n",
    "# Бүх мөрийг тэмдэгт болгож авна\n",
    "df[\"Харилцагчийн код\"] = df[\"Харилцагчийн код\"].astype(str)\n",
    "\n",
    "# Блок бүрийн эхлэл (жишээ: \"120101 - Дансны авлага\") ба төгсгөл (\"Дансны дүн\") индексүүдийг хайна\n",
    "# start_indices = df[df[\"Харилцагчийн код\"].str.contains(r\"^\\d{6} - авлага\", na=False)].index.tolist()\n",
    "start_indices = df[df[\"Харилцагчийн код\"].str.contains(r\".*авлага\", na=False)].index.tolist()\n",
    "\n",
    "end_indices = df[df[\"Харилцагчийн код\"] == \"Дансны дүн\"].index.tolist()\n",
    "\n",
    "# Авсан блокуудаа нэг dataframe-д нэгтгэх\n",
    "all_blocks = []\n",
    "\n",
    "for start in start_indices:\n",
    "    # Энд хамгийн ойр дараагийн 'Дансны дүн'-г олно\n",
    "    end = next((i for i in end_indices if i > start), None)\n",
    "    if end is None:\n",
    "        end = df.shape[0]  # Хэрэв дараагийн 'Дансны дүн' олдсонгүй бол сүүлчийн мөр хүртэл авна\n",
    "    block = df.loc[start+1:end].copy()  # Дансны нэрийг оруулахгүй\n",
    "    block[\"Харьяалах данс\"] = df.loc[start, \"Харилцагчийн код\"]  # тухайн блокын дансны нэр\n",
    "    all_blocks.append(block)\n",
    "        \n",
    "\n",
    "\n",
    "# Бүгдийг нэг dataframe-д нэгтгэх\n",
    "result_df = pd.concat(all_blocks, ignore_index=True)\n",
    "result_df = result_df[result_df[\"Харилцагчийн код\"] != \"Дансны дүн\"]  # \"Дансны дүн\" мөрийг хасна\n",
    "\n",
    "result_df.to_excel(\"avlaga_c1_filder.xlsx\", index=False)\n",
    "\n",
    "# ✅ Үр дүн харуулах\n",
    "print(result_df.head())\n"
   ]
  },
  {
   "cell_type": "code",
   "execution_count": 40,
   "id": "7e222488",
   "metadata": {},
   "outputs": [
    {
     "name": "stdout",
     "output_type": "stream",
     "text": [
      "C:\\Users\\Dell\\Downloads\\PN тооцоо\\data\\бараа_тоо_ширхэгээр.xlsx\n",
      "Results saved to               №  Баримт                 Багц Баримтын огноо Харилцагчийн код  \\\n",
      "65          NaN     9.0  2402061628046791035     2023-03-20              NaN   \n",
      "66          NaN     9.0  2402061628046791035     2023-03-20              NaN   \n",
      "67          NaN     9.0  2402061628046791035     2023-03-20              NaN   \n",
      "68          NaN     9.0  2402061628046791035     2023-03-20              NaN   \n",
      "69          NaN     9.0  2402061628046791035     2023-03-20              NaN   \n",
      "...         ...     ...                  ...            ...              ...   \n",
      "38847  ХН110001  5125.0                  NaN     2025-04-15              NaN   \n",
      "38848  ХН110001  5125.0                  NaN     2025-04-15              NaN   \n",
      "38849  ХН110001  5125.0                  NaN     2025-04-15              NaN   \n",
      "38850  ХН110001  5125.0                  NaN     2025-04-15              NaN   \n",
      "38851  ХН110001  5125.0                  NaN     2025-04-15              NaN   \n",
      "\n",
      "       Худалдах үнэ  Худалдсан үнэ  Unnamed: 7  \\\n",
      "65              0.0            0.0         NaN   \n",
      "66              0.0            0.0         NaN   \n",
      "67              0.0            0.0         NaN   \n",
      "68              0.0            0.0         NaN   \n",
      "69              0.0            0.0         NaN   \n",
      "...             ...            ...         ...   \n",
      "38847           0.0            0.0         NaN   \n",
      "38848           0.0            0.0         NaN   \n",
      "38849           0.0            0.0         NaN   \n",
      "38850           0.0            0.0         NaN   \n",
      "38851           0.0            0.0         NaN   \n",
      "\n",
      "       Борлуулалтын буцаалтын дүн /НӨАТ-тай/  Борлуулалтын дүн /НӨАТ-тай/  \\\n",
      "65                                       0.0                          0.0   \n",
      "66                                       0.0                          0.0   \n",
      "67                                       0.0                          0.0   \n",
      "68                                       0.0                          0.0   \n",
      "69                                       0.0                          0.0   \n",
      "...                                      ...                          ...   \n",
      "38847                                    0.0                          0.0   \n",
      "38848                                    0.0                          0.0   \n",
      "38849                                    0.0                          0.0   \n",
      "38850                                    0.0                          0.0   \n",
      "38851                                    0.0                          0.0   \n",
      "\n",
      "       ... Барааны код                Барааны нэр Хэмжих нэгж     Нэгж өртөг  \\\n",
      "65     ...    400020.0  Ундаа Amino 330ml Waikiki      Ширхэг    2346.735790   \n",
      "66     ...    400020.0  Ундаа Amino 330ml Waikiki      Ширхэг    2346.735790   \n",
      "67     ...    400020.0  Ундаа Amino 330ml Waikiki      Ширхэг    2346.735790   \n",
      "68     ...    400020.0  Ундаа Amino 330ml Waikiki      Ширхэг    2346.735790   \n",
      "69     ...    400020.0  Ундаа Amino 330ml Waikiki      Ширхэг    2346.735790   \n",
      "...    ...         ...                        ...         ...            ...   \n",
      "38847  ...    300006.0                Test-x 150ш      Ширхэг  115554.128448   \n",
      "38848  ...    100038.0               Power Casein      Ширхэг   60819.123793   \n",
      "38849  ...    100038.0               Power Casein      Ширхэг   60819.123793   \n",
      "38850  ...    200103.0                  Bedford 5      Ширхэг   88358.670000   \n",
      "38851  ...    200103.0                  Bedford 5      Ширхэг   88358.670000   \n",
      "\n",
      "       Unnamed: 20 Орлого тоо  Unnamed: 22  Орлого дүн Зарлага тоо  \\\n",
      "65             NaN        0.0          NaN        0.00       240.0   \n",
      "66             NaN      240.0          NaN   563216.59         0.0   \n",
      "67             NaN        0.0          NaN        0.00        96.0   \n",
      "68             NaN       96.0          NaN   225286.64         0.0   \n",
      "69             NaN        0.0          NaN        0.00       180.0   \n",
      "...            ...        ...          ...         ...         ...   \n",
      "38847          NaN       21.0          NaN  2426636.70         0.0   \n",
      "38848          NaN        0.0          NaN        0.00       101.0   \n",
      "38849          NaN      101.0          NaN  6142731.50         0.0   \n",
      "38850          NaN        0.0          NaN        0.00         1.0   \n",
      "38851          NaN        1.0          NaN    88358.67         0.0   \n",
      "\n",
      "       Зарлага дүн  \n",
      "65       563216.59  \n",
      "66            0.00  \n",
      "67       225286.64  \n",
      "68            0.00  \n",
      "69       422412.44  \n",
      "...            ...  \n",
      "38847         0.00  \n",
      "38848   6142731.50  \n",
      "38849         0.00  \n",
      "38850     88358.67  \n",
      "38851         0.00  \n",
      "\n",
      "[4320 rows x 26 columns]\n"
     ]
    }
   ],
   "source": [
    "import os\n",
    "from pathlib import Path\n",
    "import pandas as pd\n",
    "\n",
    "\n",
    "file_path = r'C:\\Users\\Dell\\Downloads\\PN тооцоо\\data\\бараа_тоо_ширхэгээр.xlsx'\n",
    "\n",
    "print(file_path)\n",
    "df=pd.read_excel(file_path, skiprows=4 )\n",
    "movement_df = df[df[\"Баримтын төрөл\"] == \"Бараа материал хөдөлгөөн\"].copy()\n",
    "# Тоон талбаруудыг найдвартай тоон болгож авна\n",
    "movement_df[\"Орлого тоо\"] = pd.to_numeric(movement_df[\"Орлого тоо\"], errors='coerce').fillna(0)\n",
    "movement_df[\"Зарлага тоо\"] = pd.to_numeric(movement_df[\"Зарлага тоо\"], errors='coerce').fillna(0)\n",
    "# Групплэх түлхүүр: № + Багц\n",
    "grouped = movement_df.groupby([\"№\", \"Багц\"])\n",
    "\n",
    "result_rows = []\n",
    "\n",
    "for (no, batch), group in grouped:\n",
    "    if group.shape[0] != 2:\n",
    "        continue  # зөвхөн 2 мөртэй бүлэг (гарсан/орсон) гэж үзнэ\n",
    "\n",
    "    row1, row2 = group.iloc[0], group.iloc[1]\n",
    "\n",
    "    if row1[\"Зарлага тоо\"] > 0:\n",
    "        from_loc, to_loc = row1[\"Байршил\"], row2[\"Байршил\"]\n",
    "        qty = row1[\"Зарлага тоо\"]\n",
    "    else:\n",
    "        from_loc, to_loc = row2[\"Байршил\"], row1[\"Байршил\"]\n",
    "        qty = row2[\"Зарлага тоо\"]\n",
    "\n",
    "    result_rows.append({\n",
    "        \"№\": no,\n",
    "        \"Багц\": batch,\n",
    "        \"Гаралтын агуулах\": from_loc,\n",
    "        \"Хүлээн авсан агуулах\": to_loc,\n",
    "        \"Шилжсэн тоо\": qty\n",
    "    })\n",
    "\n",
    "# DataFrame болгох\n",
    "movement_summary = pd.DataFrame(result_rows)\n",
    "# Excel файл руу бичих\n",
    "movement_df.to_excel(\"movement_summary.xlsx\", index=False)\n",
    "\n",
    "print(f\"Results saved to {movement_df}\")\n"
   ]
  }
 ],
 "metadata": {
  "kernelspec": {
   "display_name": "Python 3",
   "language": "python",
   "name": "python3"
  },
  "language_info": {
   "codemirror_mode": {
    "name": "ipython",
    "version": 3
   },
   "file_extension": ".py",
   "mimetype": "text/x-python",
   "name": "python",
   "nbconvert_exporter": "python",
   "pygments_lexer": "ipython3",
   "version": "3.13.0"
  }
 },
 "nbformat": 4,
 "nbformat_minor": 5
}
