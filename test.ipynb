{
 "cells": [
  {
   "cell_type": "code",
   "execution_count": 4,
   "id": "459317b6",
   "metadata": {},
   "outputs": [],
   "source": [
    "import pandas as pd"
   ]
  },
  {
   "cell_type": "code",
   "execution_count": 3,
   "id": "0f7f9e3d",
   "metadata": {},
   "outputs": [
    {
     "name": "stdout",
     "output_type": "stream",
     "text": [
      "(86261, 7)\n"
     ]
    }
   ],
   "source": [
    "df=pd.read_excel(\"filtered_data.xlsx\")\n",
    "print(df.shape)"
   ]
  },
  {
   "cell_type": "code",
   "execution_count": 35,
   "id": "a5424743",
   "metadata": {},
   "outputs": [
    {
     "name": "stdout",
     "output_type": "stream",
     "text": [
      "(10328, 6)\n",
      "Index(['Гүйлгээний огноо', 'Тооцооны төрөл', 'Харилцагчийн код',\n",
      "       'Харилцагчийн нэр', 'Дебет - ₮', 'Кредит -₮'],\n",
      "      dtype='object')\n"
     ]
    }
   ],
   "source": [
    "columns=['Гүйлгээний огноо', 'Харилцагчийн код', 'Харилцагчийн нэр', 'Дебет - ₮', 'Кредит -₮',\"Тооцооны төрөл\" ]\n",
    "\n",
    "\n",
    "avlaga_nasjilt=pd.read_excel(\"Авлага_насжилт.xlsx\", usecols=columns)\n",
    "print(avlaga_nasjilt.shape)\n",
    "print(avlaga_nasjilt.columns)"
   ]
  },
  {
   "cell_type": "code",
   "execution_count": 36,
   "id": "533aa010",
   "metadata": {},
   "outputs": [],
   "source": [
    "# Огноог datetime болгох\n",
    "avlaga_nasjilt['Гүйлгээний огноо'] = pd.to_datetime(avlaga_nasjilt['Гүйлгээний огноо'], errors='coerce')\n",
    "# avlaga_nasjilt['Гүйлгээний огноо'] = pd.to_datetime(avlaga_nasjilt['Гүйлгээний огноо'], format='%Y-%m-%d')\n",
    "# avlaga_nasjilt['Гүйлгээний огноо'] = avlaga_nasjilt['Гүйлгээний огноо'].dt.strftime('%Y-%m-%d')\n",
    "# Сар багана гаргах\n",
    "avlaga_nasjilt['Сар'] = avlaga_nasjilt['Гүйлгээний огноо'].dt.to_period('M')"
   ]
  },
  {
   "cell_type": "code",
   "execution_count": 37,
   "id": "076ce503",
   "metadata": {},
   "outputs": [],
   "source": [
    "avlaga_nasjilt[\"Үлдэгдэл\"] = avlaga_nasjilt['Дебет - ₮'] - avlaga_nasjilt['Кредит -₮']"
   ]
  },
  {
   "cell_type": "code",
   "execution_count": 38,
   "id": "a754bb17",
   "metadata": {},
   "outputs": [],
   "source": [
    "pivot_sorted= avlaga_nasjilt.sort_values(['Харилцагчийн код', 'Харилцагчийн нэр', 'Тооцооны төрөл', 'Сар'])\n",
    "pivot_sorted['Нийт үлдэгдэл'] = pivot_sorted.groupby(['Харилцагчийн код', 'Харилцагчийн нэр', 'Тооцооны төрөл',])['Үлдэгдэл'].cumsum()\n",
    "latest_balances = pivot_sorted.groupby(['Харилцагчийн код', 'Харилцагчийн нэр', 'Тооцооны төрөл']).last().reset_index()\n",
    "# pivot_table = avlaga_nasjilt.groupby(['Харилцагчийн код', 'Харилцагчийн нэр', 'Сар'])[\"Үлдэгдэл\"].sum().reset_index()\n",
    "latest_balances = latest_balances[latest_balances['Нийт үлдэгдэл'] != 0]"
   ]
  },
  {
   "cell_type": "code",
   "execution_count": 39,
   "id": "6a69016c",
   "metadata": {},
   "outputs": [],
   "source": [
    "latest_balances.to_excel(\"latest_balances.xlsx\", index=False)"
   ]
  },
  {
   "cell_type": "code",
   "execution_count": 26,
   "id": "28599e73",
   "metadata": {},
   "outputs": [],
   "source": [
    "last_c2=pivot_filtered.sort_values(\"Сар\").groupby(['Харилцагчийн код', 'Харилцагчийн нэр']).tail(1)"
   ]
  },
  {
   "cell_type": "code",
   "execution_count": 27,
   "id": "8c6d4126",
   "metadata": {},
   "outputs": [],
   "source": [
    "last_c2.to_excel(\"pivot_filtered.xlsx\", index=False)"
   ]
  },
  {
   "cell_type": "code",
   "execution_count": 1,
   "id": "d4e3ec58",
   "metadata": {},
   "outputs": [
    {
     "name": "stdout",
     "output_type": "stream",
     "text": [
      "Index(['Дугаар', 'ДТ2', 'КТ2', 'ДТ4', 'КТ4', 'ДТ6', 'КТ6', 'сар, өдөр',\n",
      "       'дугаар\\n', 'Гүйлгээний утга', 'Дүн', 'Дебет', 'Кредит\\n'],\n",
      "      dtype='object')\n"
     ]
    }
   ],
   "source": [
    "import pandas as pd\n",
    "import seaborn as sns\n",
    "import matplotlib.pyplot as plt\n",
    "df=pd.read_excel(\"ЕЖ.xlsx\")\n",
    "print(df.columns)\n",
    "\n",
    "\n",
    "# pd.read_excel(\"ЕЖ.xlsx\", usecols=['Гүйлгээний утга', 'Харилцагчийн нэр', 'Тооцооны төрөл', 'Сар', 'Нийт үлдэгдэл']).to_excel(\"ЕЖ.xlsx\", index=False)"
   ]
  },
  {
   "cell_type": "code",
   "execution_count": 18,
   "id": "1d3e0af5",
   "metadata": {},
   "outputs": [],
   "source": [
    "df['Огноо'] = pd.to_datetime(df['сар, өдөр'])\n",
    "# print(df[\"Дүн\"].head(10))\n",
    "debet_df = df[[\"Огноо\", \"Дебет\", \"Дүн\"]].rename(columns={\"Дебет\": \"Данс код\"})\n",
    "debet_df[\"Сар\"] = debet_df[\"Огноо\"].dt.to_period(\"M\")\n",
    "pivot = debet_df.groupby([ \"Данс код\"])[\"Дүн\"].sum().reset_index()\n"
   ]
  },
  {
   "cell_type": "code",
   "execution_count": null,
   "id": "f6a0cc33",
   "metadata": {},
   "outputs": [],
   "source": [
    "# Дүн баганыг тоон төрөлд хөрвүүлэх\n",
    "pivot['Дүн'] = pd.to_numeric(pivot['Дүн'], errors='coerce')\n",
    "\n",
    "# График зурна\n",
    "import matplotlib.pyplot as plt\n",
    "import seaborn as sns\n",
    "\n",
    "print(pivot[\"Дүн\"].dtype)\n",
    "print(pivot[\"Дүн\"].head(10))\n",
    "print(\"PN тооцоо.xlsx\")\n",
    "# print(pivot[\"Сар\"].dtype)\n",
    "plt.figure(figsize=(14, 6))\n",
    "# pivot['Сар'] = pivot['Сар'].astype(str)  # Сар баганыг string төрөлд хөрвүүлэх\n",
    "pivot[\"Дүн\"]=pivot[\"Дүн\"].map('{:.2f}'.format)  # Дүн баганыг форматлах\n",
    "print(pivot[\"Дүн\"].head(10))\n",
    "sns.lineplot(data=pivot, x='Сар', y='Дүн', hue='Данс код')\n",
    "\n",
    "plt.title('Сар бүрийн дүн (данс тус бүрээр)')\n",
    "plt.xticks(rotation=45)\n",
    "plt.tight_layout()\n",
    "plt.show()\n"
   ]
  },
  {
   "cell_type": "code",
   "execution_count": null,
   "id": "7c057979",
   "metadata": {},
   "outputs": [],
   "source": [
    "plt.figure(figsize=(12,6))\n",
    "sns.barplot(data=monthly, x='Сар', y='Дүн')\n",
    "\n",
    "plt.title('Сар бүрийн нийт дүн')\n",
    "plt.xticks(rotation=45)\n",
    "plt.ylabel('Дүн (₮)')\n",
    "plt.xlabel('Сар')\n",
    "plt.tight_layout()\n",
    "plt.show()"
   ]
  },
  {
   "cell_type": "code",
   "execution_count": 12,
   "id": "8b89d358",
   "metadata": {},
   "outputs": [
    {
     "name": "stdout",
     "output_type": "stream",
     "text": [
      "(197, 14)\n",
      "Index(['120101 - Дансны авлага', 'Unnamed: 1', 'Unnamed: 2', 'Unnamed: 3',\n",
      "       'Unnamed: 4', 'Unnamed: 5', 'Unnamed: 6', 'Unnamed: 7', 'Unnamed: 8',\n",
      "       'Unnamed: 9', 'Unnamed: 10', 'Unnamed: 11', 'MNT', 'Unnamed: 13'],\n",
      "      dtype='object')\n",
      "  120101 - Дансны авлага Unnamed: 1  Unnamed: 2  Unnamed: 3  Unnamed: 4  \\\n",
      "0                  10003        NaN     Соёлзул         NaN         NaN   \n",
      "1                  10004        NaN     Билгүүн         NaN         NaN   \n",
      "2                  10006        NaN   Цэнд-Аюуш         NaN         NaN   \n",
      "3                  10007        NaN    Энхцэцэг         NaN         NaN   \n",
      "4                  10009        NaN  Үүрийнтуяа         NaN         NaN   \n",
      "5                   1001        NaN   Билгүүн.Г         NaN         NaN   \n",
      "6                  10011        NaN   Бямбацогт         NaN         NaN   \n",
      "7                  10020        NaN       Номин         NaN         NaN   \n",
      "8                   1004        NaN   Цогжаргал         NaN         NaN   \n",
      "9                   1021        NaN  БАЯРЖАРГАЛ         NaN         NaN   \n",
      "\n",
      "   Unnamed: 5  Unnamed: 6 Unnamed: 7  Unnamed: 8  Unnamed: 9  Unnamed: 10  \\\n",
      "0         NaN    106920.0        NaN         0.0         NaN          0.0   \n",
      "1         NaN    675465.0        NaN         0.0         NaN          0.0   \n",
      "2         NaN   -356800.0        NaN         0.0         NaN          0.0   \n",
      "3         NaN     76000.0        NaN         0.0         NaN          0.0   \n",
      "4         NaN     47650.0        NaN         0.0         NaN          0.0   \n",
      "5         NaN  22846500.0        NaN         0.0         NaN          0.0   \n",
      "6         NaN    460400.0        NaN     37800.0         NaN     108000.0   \n",
      "7         NaN     22950.0        NaN         0.0         NaN          0.0   \n",
      "8         NaN    106920.0        NaN         0.0         NaN          0.0   \n",
      "9         NaN   1350000.0        NaN         0.0         NaN          0.0   \n",
      "\n",
      "   Unnamed: 11       MNT Unnamed: 13  \n",
      "0          NaN    106920         NaN  \n",
      "1          NaN    675465         NaN  \n",
      "2          NaN   -356800         NaN  \n",
      "3          NaN     76000         NaN  \n",
      "4          NaN     47650         NaN  \n",
      "5          NaN  22846500         NaN  \n",
      "6          NaN    390200         NaN  \n",
      "7          NaN     22950         NaN  \n",
      "8          NaN    106920         NaN  \n",
      "9          NaN   1350000         NaN  \n",
      "<class 'pandas.core.frame.DataFrame'>\n",
      "RangeIndex: 197 entries, 0 to 196\n",
      "Data columns (total 14 columns):\n",
      " #   Column                  Non-Null Count  Dtype  \n",
      "---  ------                  --------------  -----  \n",
      " 0   120101 - Дансны авлага  193 non-null    object \n",
      " 1   Unnamed: 1              3 non-null      object \n",
      " 2   Unnamed: 2              175 non-null    object \n",
      " 3   Unnamed: 3              0 non-null      float64\n",
      " 4   Unnamed: 4              0 non-null      float64\n",
      " 5   Unnamed: 5              0 non-null      float64\n",
      " 6   Unnamed: 6              189 non-null    float64\n",
      " 7   Unnamed: 7              3 non-null      object \n",
      " 8   Unnamed: 8              189 non-null    float64\n",
      " 9   Unnamed: 9              0 non-null      float64\n",
      " 10  Unnamed: 10             189 non-null    float64\n",
      " 11  Unnamed: 11             0 non-null      float64\n",
      " 12  MNT                     193 non-null    object \n",
      " 13  Unnamed: 13             0 non-null      object \n",
      "dtypes: float64(8), object(6)\n",
      "memory usage: 21.7+ KB\n",
      "None\n"
     ]
    }
   ],
   "source": [
    "import pandas as pd\n",
    "df = pd.read_excel(\"Авлага_2023.03.17.xlsx\", skiprows=5)\n",
    "df=df.iloc[:197]\n",
    "print(df.shape)\n",
    "print(df.columns)\n",
    "print(df.head(10))\n",
    "print(df.info())"
   ]
  },
  {
   "cell_type": "code",
   "execution_count": 13,
   "id": "f88109f3",
   "metadata": {},
   "outputs": [
    {
     "name": "stdout",
     "output_type": "stream",
     "text": [
      "120101 - Дансны авлага      4\n",
      "Unnamed: 1                194\n",
      "Unnamed: 2                 22\n",
      "Unnamed: 3                197\n",
      "Unnamed: 4                197\n",
      "Unnamed: 5                197\n",
      "Unnamed: 6                  8\n",
      "Unnamed: 7                194\n",
      "Unnamed: 8                  8\n",
      "Unnamed: 9                197\n",
      "Unnamed: 10                 8\n",
      "Unnamed: 11               197\n",
      "MNT                         4\n",
      "Unnamed: 13               197\n",
      "dtype: int64\n"
     ]
    }
   ],
   "source": [
    "print(df.isna().sum())"
   ]
  },
  {
   "cell_type": "code",
   "execution_count": 19,
   "id": "ae74b943",
   "metadata": {},
   "outputs": [
    {
     "name": "stdout",
     "output_type": "stream",
     "text": [
      "0      10003\n",
      "1      10004\n",
      "2      10006\n",
      "3      10007\n",
      "4      10009\n",
      "       ...  \n",
      "192     Нийт\n",
      "193      NaN\n",
      "194      NaN\n",
      "195      NaN\n",
      "196      NaN\n",
      "Name: 120101 - Дансны авлага, Length: 197, dtype: object\n"
     ]
    }
   ],
   "source": [
    "print(df[\"120101 - Дансны авлага\"])\n",
    "\n",
    "\n"
   ]
  }
 ],
 "metadata": {
  "kernelspec": {
   "display_name": "Python 3",
   "language": "python",
   "name": "python3"
  },
  "language_info": {
   "codemirror_mode": {
    "name": "ipython",
    "version": 3
   },
   "file_extension": ".py",
   "mimetype": "text/x-python",
   "name": "python",
   "nbconvert_exporter": "python",
   "pygments_lexer": "ipython3",
   "version": "3.13.3"
  }
 },
 "nbformat": 4,
 "nbformat_minor": 5
}
