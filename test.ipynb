{
 "cells": [
  {
   "cell_type": "code",
   "execution_count": 4,
   "id": "459317b6",
   "metadata": {},
   "outputs": [],
   "source": [
    "import pandas as pd"
   ]
  },
  {
   "cell_type": "code",
   "execution_count": 3,
   "id": "0f7f9e3d",
   "metadata": {},
   "outputs": [
    {
     "name": "stdout",
     "output_type": "stream",
     "text": [
      "(86261, 7)\n"
     ]
    }
   ],
   "source": [
    "df=pd.read_excel(\"filtered_data.xlsx\")\n",
    "print(df.shape)"
   ]
  },
  {
   "cell_type": "code",
   "execution_count": 35,
   "id": "a5424743",
   "metadata": {},
   "outputs": [
    {
     "name": "stdout",
     "output_type": "stream",
     "text": [
      "(10328, 6)\n",
      "Index(['Гүйлгээний огноо', 'Тооцооны төрөл', 'Харилцагчийн код',\n",
      "       'Харилцагчийн нэр', 'Дебет - ₮', 'Кредит -₮'],\n",
      "      dtype='object')\n"
     ]
    }
   ],
   "source": [
    "columns=['Гүйлгээний огноо', 'Харилцагчийн код', 'Харилцагчийн нэр', 'Дебет - ₮', 'Кредит -₮',\"Тооцооны төрөл\" ]\n",
    "\n",
    "\n",
    "avlaga_nasjilt=pd.read_excel(\"Авлага_насжилт.xlsx\", usecols=columns)\n",
    "print(avlaga_nasjilt.shape)\n",
    "print(avlaga_nasjilt.columns)"
   ]
  },
  {
   "cell_type": "code",
   "execution_count": 36,
   "id": "533aa010",
   "metadata": {},
   "outputs": [],
   "source": [
    "# Огноог datetime болгох\n",
    "avlaga_nasjilt['Гүйлгээний огноо'] = pd.to_datetime(avlaga_nasjilt['Гүйлгээний огноо'], errors='coerce')\n",
    "# avlaga_nasjilt['Гүйлгээний огноо'] = pd.to_datetime(avlaga_nasjilt['Гүйлгээний огноо'], format='%Y-%m-%d')\n",
    "# avlaga_nasjilt['Гүйлгээний огноо'] = avlaga_nasjilt['Гүйлгээний огноо'].dt.strftime('%Y-%m-%d')\n",
    "# Сар багана гаргах\n",
    "avlaga_nasjilt['Сар'] = avlaga_nasjilt['Гүйлгээний огноо'].dt.to_period('M')"
   ]
  },
  {
   "cell_type": "code",
   "execution_count": 37,
   "id": "076ce503",
   "metadata": {},
   "outputs": [],
   "source": [
    "avlaga_nasjilt[\"Үлдэгдэл\"] = avlaga_nasjilt['Дебет - ₮'] - avlaga_nasjilt['Кредит -₮']"
   ]
  },
  {
   "cell_type": "code",
   "execution_count": 38,
   "id": "a754bb17",
   "metadata": {},
   "outputs": [],
   "source": [
    "pivot_sorted= avlaga_nasjilt.sort_values(['Харилцагчийн код', 'Харилцагчийн нэр', 'Тооцооны төрөл', 'Сар'])\n",
    "pivot_sorted['Нийт үлдэгдэл'] = pivot_sorted.groupby(['Харилцагчийн код', 'Харилцагчийн нэр', 'Тооцооны төрөл',])['Үлдэгдэл'].cumsum()\n",
    "latest_balances = pivot_sorted.groupby(['Харилцагчийн код', 'Харилцагчийн нэр', 'Тооцооны төрөл']).last().reset_index()\n",
    "# pivot_table = avlaga_nasjilt.groupby(['Харилцагчийн код', 'Харилцагчийн нэр', 'Сар'])[\"Үлдэгдэл\"].sum().reset_index()\n",
    "latest_balances = latest_balances[latest_balances['Нийт үлдэгдэл'] != 0]"
   ]
  },
  {
   "cell_type": "code",
   "execution_count": 39,
   "id": "6a69016c",
   "metadata": {},
   "outputs": [],
   "source": [
    "latest_balances.to_excel(\"latest_balances.xlsx\", index=False)"
   ]
  },
  {
   "cell_type": "code",
   "execution_count": 26,
   "id": "28599e73",
   "metadata": {},
   "outputs": [],
   "source": [
    "last_c2=pivot_filtered.sort_values(\"Сар\").groupby(['Харилцагчийн код', 'Харилцагчийн нэр']).tail(1)"
   ]
  },
  {
   "cell_type": "code",
   "execution_count": 27,
   "id": "8c6d4126",
   "metadata": {},
   "outputs": [],
   "source": [
    "last_c2.to_excel(\"pivot_filtered.xlsx\", index=False)"
   ]
  }
 ],
 "metadata": {
  "kernelspec": {
   "display_name": "Python 3",
   "language": "python",
   "name": "python3"
  },
  "language_info": {
   "codemirror_mode": {
    "name": "ipython",
    "version": 3
   },
   "file_extension": ".py",
   "mimetype": "text/x-python",
   "name": "python",
   "nbconvert_exporter": "python",
   "pygments_lexer": "ipython3",
   "version": "3.13.0"
  }
 },
 "nbformat": 4,
 "nbformat_minor": 5
}
